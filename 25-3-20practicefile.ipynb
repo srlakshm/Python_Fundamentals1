{
 "cells": [
  {
   "cell_type": "code",
   "execution_count": 69,
   "metadata": {},
   "outputs": [
    {
     "name": "stdout",
     "output_type": "stream",
     "text": [
      "apple\n",
      "cherry\n",
      "mango\n",
      "gauva\n"
     ]
    }
   ],
   "source": [
    "def my_f1(food):\n",
    "    for x in food:\n",
    "        \n",
    "        print(x)\n",
    "fruits=['apple','cherry','mango','gauva']\n",
    "my_f1(fruits)    "
   ]
  },
  {
   "cell_type": "code",
   "execution_count": 23,
   "metadata": {},
   "outputs": [
    {
     "name": "stdout",
     "output_type": "stream",
     "text": [
      "srilaksmi\n"
     ]
    }
   ],
   "source": [
    "def my_f2(fname):\n",
    "    print(fname+'laksmi')\n",
    "my_f2('sri')    "
   ]
  },
  {
   "cell_type": "code",
   "execution_count": 67,
   "metadata": {},
   "outputs": [
    {
     "name": "stdout",
     "output_type": "stream",
     "text": [
      "my name issri my age is 42my company isnokia\n"
     ]
    }
   ],
   "source": [
    "def my_f3(name,age,company):\n",
    "    print(\"my name is\" + name+\" my age is \"+ age+\"my company is\"+ company)\n",
    "my_f3('sri','42','nokia')    \n",
    "    "
   ]
  },
  {
   "cell_type": "code",
   "execution_count": 84,
   "metadata": {},
   "outputs": [
    {
     "name": "stdout",
     "output_type": "stream",
     "text": [
      "My movie name is I hate you\n",
      " and hero is fyz\n",
      "..directed by sri\n"
     ]
    }
   ],
   "source": [
    "def my_f4(movie,hero,director):\n",
    "    print(f\"My movie name is {movie}\\n and hero is {hero}\\n..directed by {director}\")\n",
    "my_f4('I hate you','fyz','sri')    "
   ]
  },
  {
   "cell_type": "code",
   "execution_count": 102,
   "metadata": {},
   "outputs": [
    {
     "name": "stdout",
     "output_type": "stream",
     "text": [
      "Movie is ...Alavikuntapuram\n",
      "Enter a string:sri\n",
      "Movie superoooooooo\n"
     ]
    }
   ],
   "source": [
    "def my_f5(string):\n",
    "    print(f\"Movie is ...{string}\")\n",
    "    y=input(\"Enter a string:\")\n",
    "    if string=='faiyaz':\n",
    "        print(\"Music director is Thaman\")\n",
    "    else:\n",
    "        print(\"Movie superoooooooo\")\n",
    "my_f5('Alavikuntapuram')    "
   ]
  },
  {
   "cell_type": "code",
   "execution_count": null,
   "metadata": {},
   "outputs": [],
   "source": []
  },
  {
   "cell_type": "code",
   "execution_count": null,
   "metadata": {},
   "outputs": [],
   "source": []
  },
  {
   "cell_type": "code",
   "execution_count": null,
   "metadata": {},
   "outputs": [],
   "source": []
  },
  {
   "cell_type": "code",
   "execution_count": null,
   "metadata": {},
   "outputs": [],
   "source": []
  },
  {
   "cell_type": "code",
   "execution_count": null,
   "metadata": {},
   "outputs": [],
   "source": []
  },
  {
   "cell_type": "code",
   "execution_count": null,
   "metadata": {},
   "outputs": [],
   "source": []
  },
  {
   "cell_type": "code",
   "execution_count": null,
   "metadata": {},
   "outputs": [],
   "source": []
  },
  {
   "cell_type": "code",
   "execution_count": null,
   "metadata": {},
   "outputs": [],
   "source": []
  },
  {
   "cell_type": "code",
   "execution_count": null,
   "metadata": {},
   "outputs": [],
   "source": []
  },
  {
   "cell_type": "code",
   "execution_count": null,
   "metadata": {},
   "outputs": [],
   "source": []
  },
  {
   "cell_type": "code",
   "execution_count": null,
   "metadata": {},
   "outputs": [],
   "source": []
  },
  {
   "cell_type": "code",
   "execution_count": null,
   "metadata": {},
   "outputs": [],
   "source": []
  },
  {
   "cell_type": "code",
   "execution_count": null,
   "metadata": {},
   "outputs": [],
   "source": []
  }
 ],
 "metadata": {
  "kernelspec": {
   "display_name": "Python 3",
   "language": "python",
   "name": "python3"
  },
  "language_info": {
   "codemirror_mode": {
    "name": "ipython",
    "version": 3
   },
   "file_extension": ".py",
   "mimetype": "text/x-python",
   "name": "python",
   "nbconvert_exporter": "python",
   "pygments_lexer": "ipython3",
   "version": "3.7.4"
  }
 },
 "nbformat": 4,
 "nbformat_minor": 2
}
