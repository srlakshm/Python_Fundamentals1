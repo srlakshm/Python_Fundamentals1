{
 "cells": [
  {
   "cell_type": "code",
   "execution_count": null,
   "metadata": {},
   "outputs": [],
   "source": [
    "#file handling:\n"
   ]
  },
  {
   "cell_type": "code",
   "execution_count": 2,
   "metadata": {},
   "outputs": [
    {
     "name": "stdout",
     "output_type": "stream",
     "text": [
      "50\n",
      "45\n",
      "100\n",
      "120.5\n",
      "56\n",
      "200\n",
      "python\n",
      "java\n",
      "shell\n"
     ]
    }
   ],
   "source": [
    "with open('samplepg.txt') as file_object:\n",
    "    contents=file_object.read()\n",
    "    print(contents)"
   ]
  },
  {
   "cell_type": "code",
   "execution_count": 3,
   "metadata": {},
   "outputs": [
    {
     "name": "stdout",
     "output_type": "stream",
     "text": [
      "50\n",
      "\n",
      "45\n",
      "\n",
      "100\n",
      "\n",
      "120.5\n",
      "\n",
      "56\n",
      "\n",
      "200\n",
      "\n",
      "python\n",
      "\n",
      "java\n",
      "\n",
      "shell\n"
     ]
    }
   ],
   "source": [
    "filename='samplepg.txt'\n",
    "with open(filename) as file_object:\n",
    "    for i in file_object:\n",
    "        print(i)"
   ]
  },
  {
   "cell_type": "code",
   "execution_count": 6,
   "metadata": {},
   "outputs": [],
   "source": [
    "filename='samplepg.txt'\n",
    "with open(filename,'w') as file_object:\n",
    "    file_object.write('I love python programming but little bit tough... ')"
   ]
  },
  {
   "cell_type": "code",
   "execution_count": 7,
   "metadata": {},
   "outputs": [
    {
     "name": "stdout",
     "output_type": "stream",
     "text": [
      "I love python programming but little bit tough... \n"
     ]
    }
   ],
   "source": [
    "with open('samplepg.txt') as file_object:\n",
    "    contents=file_object.read()\n",
    "    print(contents)"
   ]
  },
  {
   "cell_type": "code",
   "execution_count": 11,
   "metadata": {},
   "outputs": [
    {
     "name": "stdout",
     "output_type": "stream",
     "text": [
      "I love python programming but little bit tough... \n"
     ]
    }
   ],
   "source": [
    "filename='samplepg.txt'\n",
    "with open(filename,'w') as file_object:\n",
    "    file_object.write('I love python programming but little bit tough... ')\n",
    "    \n",
    "print(contents)\n"
   ]
  },
  {
   "cell_type": "code",
   "execution_count": 19,
   "metadata": {},
   "outputs": [
    {
     "name": "stdout",
     "output_type": "stream",
     "text": [
      "I love python programming but little bit tough... Python ihas been cosidered most demand language...Python has been cosidered most demand language...Python has been cosidered most demand language...Python has been cosidered most demand language...Python has been cosidered most demand language...Python has been cosidered most demand language...Python has been cosidered most demand language...Python has been cosidered most demand language...\n"
     ]
    }
   ],
   "source": [
    "filename='samplepg.txt'\n",
    "with open(filename,'a') as file_object:\n",
    "    file_object.write(\"Python has been cosidered most demand language...\")\n",
    "with open('samplepg.txt') as file_object:\n",
    "    contents=file_object.read()\n",
    "    print(contents)"
   ]
  },
  {
   "cell_type": "code",
   "execution_count": 21,
   "metadata": {},
   "outputs": [
    {
     "name": "stdout",
     "output_type": "stream",
     "text": [
      "\n",
      " I love python programming.\n",
      "Python has been considered as most demand language....\n"
     ]
    }
   ],
   "source": [
    "filename='samplepg.txt'\n",
    "with open(filename,'w') as file_object:\n",
    "    file_object.write('\\n I love python programming.\\n')\n",
    "    file_object.write('Python has been considered as most demand language....')\n",
    "with open('samplepg.txt') as file_object:\n",
    "    abc=file_object.read()\n",
    "    print(abc)"
   ]
  },
  {
   "cell_type": "code",
   "execution_count": 22,
   "metadata": {},
   "outputs": [
    {
     "name": "stdout",
     "output_type": "stream",
     "text": [
      "Faiyaz good ni8...\n"
     ]
    }
   ],
   "source": [
    "with open('Gn.txt') as file_object:\n",
    "    xyz=file_object.read()\n",
    "    print(xyz)"
   ]
  },
  {
   "cell_type": "code",
   "execution_count": null,
   "metadata": {},
   "outputs": [],
   "source": []
  },
  {
   "cell_type": "code",
   "execution_count": null,
   "metadata": {},
   "outputs": [],
   "source": []
  },
  {
   "cell_type": "code",
   "execution_count": null,
   "metadata": {},
   "outputs": [],
   "source": []
  },
  {
   "cell_type": "code",
   "execution_count": null,
   "metadata": {},
   "outputs": [],
   "source": []
  },
  {
   "cell_type": "code",
   "execution_count": null,
   "metadata": {},
   "outputs": [],
   "source": []
  },
  {
   "cell_type": "code",
   "execution_count": null,
   "metadata": {},
   "outputs": [],
   "source": []
  }
 ],
 "metadata": {
  "kernelspec": {
   "display_name": "Python 3",
   "language": "python",
   "name": "python3"
  },
  "language_info": {
   "codemirror_mode": {
    "name": "ipython",
    "version": 3
   },
   "file_extension": ".py",
   "mimetype": "text/x-python",
   "name": "python",
   "nbconvert_exporter": "python",
   "pygments_lexer": "ipython3",
   "version": "3.7.4"
  }
 },
 "nbformat": 4,
 "nbformat_minor": 2
}
