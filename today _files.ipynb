{
 "cells": [
  {
   "cell_type": "code",
   "execution_count": 4,
   "metadata": {},
   "outputs": [
    {
     "name": "stdout",
     "output_type": "stream",
     "text": [
      "30\n",
      "25\n"
     ]
    }
   ],
   "source": [
    "def my_class():\n",
    "    a=10\n",
    "    b=20\n",
    "    print(a+b)\n",
    "    c=5\n",
    "    print(b+c)\n",
    "my_class()\n",
    "\n",
    "    "
   ]
  },
  {
   "cell_type": "code",
   "execution_count": 7,
   "metadata": {},
   "outputs": [
    {
     "name": "stdout",
     "output_type": "stream",
     "text": [
      "enter a number:3\n",
      "enter a second number:4\n",
      "sum two numbers: 7\n"
     ]
    }
   ],
   "source": [
    "def my_a():\n",
    "    x=int(input('enter a number:'))\n",
    "    y=int(input('enter a second number:'))\n",
    "    print(\"sum two numbers:\",x+y)\n",
    "my_a()    "
   ]
  },
  {
   "cell_type": "code",
   "execution_count": 16,
   "metadata": {},
   "outputs": [
    {
     "name": "stdout",
     "output_type": "stream",
     "text": [
      "Shell we go to movie ....KGF\n"
     ]
    }
   ],
   "source": [
    "def my_b(movie):\n",
    "    \"\"\"  send some msgs........\"\"\"\n",
    "    print(f\"Shell we go to movie ....{movie}\")\n",
    "    movie='KGF'\n",
    "my_b('KGF')    "
   ]
  },
  {
   "cell_type": "code",
   "execution_count": 38,
   "metadata": {},
   "outputs": [
    {
     "name": "stdout",
     "output_type": "stream",
     "text": [
      "wash your hands...break Carona\n"
     ]
    },
    {
     "data": {
      "text/plain": [
       "'carona'"
      ]
     },
     "execution_count": 38,
     "metadata": {},
     "output_type": "execute_result"
    }
   ],
   "source": [
    "def my_c(msg):\n",
    "    \"\"\" some msgs..............\"\"\"\n",
    "    print(f\"wash your hands...break {msg.title()}\")\n",
    "    msg='carona'\n",
    "    return msg\n",
    "my_c('carona')\n"
   ]
  },
  {
   "cell_type": "code",
   "execution_count": 39,
   "metadata": {},
   "outputs": [],
   "source": [
    "movies=['Bahubali','Alavaikuntapuram','RRR','Darling','Oo Baby']\n"
   ]
  },
  {
   "cell_type": "code",
   "execution_count": 40,
   "metadata": {},
   "outputs": [
    {
     "name": "stdout",
     "output_type": "stream",
     "text": [
      "['Bahubali', 'Alavaikuntapuram', 'RRR', 'Darling', 'Oo Baby']\n"
     ]
    }
   ],
   "source": [
    "print(movies)"
   ]
  },
  {
   "cell_type": "code",
   "execution_count": 66,
   "metadata": {},
   "outputs": [
    {
     "name": "stdout",
     "output_type": "stream",
     "text": [
      "which movie do u like..?\n",
      "I like Bahubali\n",
      "which movie do u like..?\n",
      "I like Alavaikuntapuram\n",
      "which movie do u like..?\n",
      "I like RRR\n",
      "which movie do u like..?\n",
      "I like Darling\n",
      "which movie do u like..?\n",
      "I like Oo Baby\n"
     ]
    }
   ],
   "source": [
    "def my_x():\n",
    "    \"\"\"  some.......\"\"\"\n",
    "    for i in movies:\n",
    "        print(f\"which movie do u like..?\\nI like {i}\")\n",
    "my_x()\n",
    "        "
   ]
  },
  {
   "cell_type": "code",
   "execution_count": 65,
   "metadata": {},
   "outputs": [
    {
     "name": "stdout",
     "output_type": "stream",
     "text": [
      "Maitain some distance....\n",
      "Break corana\n"
     ]
    }
   ],
   "source": [
    "def my_z():\n",
    "    \"\"\" some............\"\"\"\n",
    "    print(f\"Maitain some distance....\\nBreak corana\")\n",
    "my_z()\n",
    "    "
   ]
  },
  {
   "cell_type": "code",
   "execution_count": 69,
   "metadata": {},
   "outputs": [],
   "source": [
    "abc='rose'\n"
   ]
  },
  {
   "cell_type": "code",
   "execution_count": 70,
   "metadata": {},
   "outputs": [
    {
     "name": "stdout",
     "output_type": "stream",
     "text": [
      "rose\n"
     ]
    }
   ],
   "source": [
    "print(*abc)"
   ]
  },
  {
   "cell_type": "code",
   "execution_count": 85,
   "metadata": {},
   "outputs": [
    {
     "name": "stdout",
     "output_type": "stream",
     "text": [
      "*******Rose\n"
     ]
    }
   ],
   "source": [
    "def my_m():\n",
    "    \"\"\"   some.....sdfr.....\"\"\"\n",
    "    print(f\"*******{abc.title()}\")\n",
    "my_m()"
   ]
  },
  {
   "cell_type": "code",
   "execution_count": 90,
   "metadata": {},
   "outputs": [
    {
     "name": "stdout",
     "output_type": "stream",
     "text": [
      "*******('lilly', 'chamanthi', 'marigold')\n"
     ]
    }
   ],
   "source": [
    "def my_m(*abc):\n",
    "    \"\"\"   some.....sdfr.....\"\"\"\n",
    "    print(f\"*******{abc}\")\n",
    "my_m('lilly','chamanthi','marigold')"
   ]
  },
  {
   "cell_type": "code",
   "execution_count": null,
   "metadata": {},
   "outputs": [],
   "source": []
  },
  {
   "cell_type": "code",
   "execution_count": null,
   "metadata": {},
   "outputs": [],
   "source": []
  },
  {
   "cell_type": "code",
   "execution_count": null,
   "metadata": {},
   "outputs": [],
   "source": []
  },
  {
   "cell_type": "code",
   "execution_count": null,
   "metadata": {},
   "outputs": [],
   "source": []
  },
  {
   "cell_type": "code",
   "execution_count": null,
   "metadata": {},
   "outputs": [],
   "source": []
  },
  {
   "cell_type": "code",
   "execution_count": null,
   "metadata": {},
   "outputs": [],
   "source": []
  },
  {
   "cell_type": "code",
   "execution_count": null,
   "metadata": {},
   "outputs": [],
   "source": []
  },
  {
   "cell_type": "code",
   "execution_count": null,
   "metadata": {},
   "outputs": [],
   "source": []
  },
  {
   "cell_type": "code",
   "execution_count": null,
   "metadata": {},
   "outputs": [],
   "source": []
  }
 ],
 "metadata": {
  "kernelspec": {
   "display_name": "Python 3",
   "language": "python",
   "name": "python3"
  },
  "language_info": {
   "codemirror_mode": {
    "name": "ipython",
    "version": 3
   },
   "file_extension": ".py",
   "mimetype": "text/x-python",
   "name": "python",
   "nbconvert_exporter": "python",
   "pygments_lexer": "ipython3",
   "version": "3.7.4"
  }
 },
 "nbformat": 4,
 "nbformat_minor": 2
}
