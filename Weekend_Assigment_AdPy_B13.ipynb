{
 "cells": [
  {
   "cell_type": "code",
   "execution_count": 24,
   "metadata": {},
   "outputs": [
    {
     "name": "stdout",
     "output_type": "stream",
     "text": [
      "It is excuted\n"
     ]
    }
   ],
   "source": [
    "class Restaurant:\n",
    "    \"\"\"some thing...\"\"\"\n",
    "    \n",
    "    def __init__(self,restaurantname,cuisinetype):\n",
    "        self.restaurantname=restaurantname\n",
    "        \n",
    "        self.cuisinetype=cuisinetype\n",
    "        print(\"It is excuted\")\n",
    "        \n",
    "    def describe_restaurantname(self):\n",
    "        print(f\"{self.restaurantname} is very  well developed restaurant in Hyderabad\")\n",
    "        print(f\"{self.cuisinetype} food which is available here is very famous\")\n",
    "    def open_restaurant(self):\n",
    "        print(f\"{self.restaurantname} will be open early in the morning and will be closed late at the night\")\n",
    "aobj=Restaurant('Garden restaurant','Non-Vegitrain')    \n",
    "     \n"
   ]
  },
  {
   "cell_type": "code",
   "execution_count": 25,
   "metadata": {},
   "outputs": [
    {
     "name": "stdout",
     "output_type": "stream",
     "text": [
      "Garden restaurant is very  well developed restaurant in Hyderabad\n",
      "Non-Vegitrain food which is available here is very famous\n"
     ]
    }
   ],
   "source": [
    "aobj.describe_restaurantname()"
   ]
  },
  {
   "cell_type": "code",
   "execution_count": 26,
   "metadata": {},
   "outputs": [
    {
     "name": "stdout",
     "output_type": "stream",
     "text": [
      "Garden restaurant will be open early in the morning and will be closed late at the night\n"
     ]
    }
   ],
   "source": [
    "aobj.open_restaurant()"
   ]
  },
  {
   "cell_type": "code",
   "execution_count": null,
   "metadata": {},
   "outputs": [],
   "source": [
    "# 2 Activity"
   ]
  },
  {
   "cell_type": "code",
   "execution_count": 71,
   "metadata": {},
   "outputs": [
    {
     "data": {
      "text/plain": [
       "'The icecreams present here are very tasty and soft like chocolate,vanella,strawberry,butterscoth'"
      ]
     },
     "execution_count": 71,
     "metadata": {},
     "output_type": "execute_result"
    }
   ],
   "source": [
    "class IceCreamStand:\n",
    "    a='The icecreams present here are very tasty and soft like chocolate,vanella,strawberry,butterscoth'\n",
    "    b='when compared to all the ice creams present most of the people like to eat butter scoth ice cream'\n",
    "    \n",
    "\n",
    "class Restaurant(IceCreamStand):\n",
    "    c='There are some special ice creams present here ,which are filled with fruits and nuts,like cream sundae,fudge sundae'\n",
    "    b='If you taste these ice creams once you feel to eat again and again'\n",
    "xobj=IceCreamStand()\n",
    "xobj.a\n",
    "        "
   ]
  },
  {
   "cell_type": "code",
   "execution_count": 72,
   "metadata": {},
   "outputs": [],
   "source": [
    "yobj=Restaurant()"
   ]
  },
  {
   "cell_type": "code",
   "execution_count": 73,
   "metadata": {},
   "outputs": [
    {
     "data": {
      "text/plain": [
       "'There are some special ice creams present here ,which are filled with fruits and nuts,like cream sundae,fudge sundae'"
      ]
     },
     "execution_count": 73,
     "metadata": {},
     "output_type": "execute_result"
    }
   ],
   "source": [
    "yobj.c"
   ]
  },
  {
   "cell_type": "code",
   "execution_count": 74,
   "metadata": {},
   "outputs": [
    {
     "data": {
      "text/plain": [
       "'The icecreams present here are very tasty and soft like chocolate,vanella,strawberry,butterscoth'"
      ]
     },
     "execution_count": 74,
     "metadata": {},
     "output_type": "execute_result"
    }
   ],
   "source": [
    "yobj.a"
   ]
  },
  {
   "cell_type": "code",
   "execution_count": 75,
   "metadata": {},
   "outputs": [
    {
     "data": {
      "text/plain": [
       "'If you taste these ice creams once you feel to eat again and again'"
      ]
     },
     "execution_count": 75,
     "metadata": {},
     "output_type": "execute_result"
    }
   ],
   "source": [
    "yobj.b"
   ]
  },
  {
   "cell_type": "code",
   "execution_count": 76,
   "metadata": {},
   "outputs": [
    {
     "data": {
      "text/plain": [
       "'when compared to all the ice creams present most of the people like to eat butter scoth ice cream'"
      ]
     },
     "execution_count": 76,
     "metadata": {},
     "output_type": "execute_result"
    }
   ],
   "source": [
    "xobj.b\n",
    "\n",
    "\n"
   ]
  },
  {
   "cell_type": "code",
   "execution_count": null,
   "metadata": {},
   "outputs": [],
   "source": []
  },
  {
   "cell_type": "code",
   "execution_count": null,
   "metadata": {},
   "outputs": [],
   "source": []
  },
  {
   "cell_type": "code",
   "execution_count": null,
   "metadata": {},
   "outputs": [],
   "source": []
  },
  {
   "cell_type": "code",
   "execution_count": null,
   "metadata": {},
   "outputs": [],
   "source": []
  },
  {
   "cell_type": "code",
   "execution_count": null,
   "metadata": {},
   "outputs": [],
   "source": []
  },
  {
   "cell_type": "code",
   "execution_count": null,
   "metadata": {},
   "outputs": [],
   "source": []
  },
  {
   "cell_type": "code",
   "execution_count": null,
   "metadata": {},
   "outputs": [],
   "source": []
  },
  {
   "cell_type": "code",
   "execution_count": null,
   "metadata": {},
   "outputs": [],
   "source": []
  },
  {
   "cell_type": "code",
   "execution_count": null,
   "metadata": {},
   "outputs": [],
   "source": []
  },
  {
   "cell_type": "code",
   "execution_count": null,
   "metadata": {},
   "outputs": [],
   "source": []
  },
  {
   "cell_type": "code",
   "execution_count": null,
   "metadata": {},
   "outputs": [],
   "source": []
  }
 ],
 "metadata": {
  "kernelspec": {
   "display_name": "Python 3",
   "language": "python",
   "name": "python3"
  },
  "language_info": {
   "codemirror_mode": {
    "name": "ipython",
    "version": 3
   },
   "file_extension": ".py",
   "mimetype": "text/x-python",
   "name": "python",
   "nbconvert_exporter": "python",
   "pygments_lexer": "ipython3",
   "version": "3.7.4"
  }
 },
 "nbformat": 4,
 "nbformat_minor": 2
}
